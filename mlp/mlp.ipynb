{
 "cells": [
  {
   "cell_type": "code",
   "execution_count": 1,
   "id": "6fb232a5",
   "metadata": {},
   "outputs": [
    {
     "name": "stdout",
     "output_type": "stream",
     "text": [
      "(60000, 28, 28) (60000,)\n"
     ]
    }
   ],
   "source": [
    "import matplotlib.pyplot as plt\n",
    "import tensorflow as tf\n",
    "from tensorflow import keras\n",
    "from keras.datasets import mnist\n",
    "from keras.models import Sequential\n",
    "from keras.layers import Dense, Dropout, Flatten\n",
    "from keras.layers import Conv2D, MaxPooling2D\n",
    "from keras import backend as K\n",
    "from keras.utils import np_utils\n",
    "\n",
    "(x_train, y_train), (x_test, y_test) = mnist.load_data()\n",
    "\n",
    "print(x_train.shape, y_train.shape)"
   ]
  },
  {
   "cell_type": "code",
   "execution_count": 2,
   "id": "b2f851da",
   "metadata": {},
   "outputs": [
    {
     "name": "stdout",
     "output_type": "stream",
     "text": [
      "x_train shape: (60000, 28, 28, 1)\n",
      "60000 train samples\n",
      "10000 test samples\n"
     ]
    }
   ],
   "source": [
    "x_train = x_train.reshape(x_train.shape[0], 28, 28, 1)\n",
    "x_test = x_test.reshape(x_test.shape[0], 28, 28, 1)\n",
    "input_shape = (28, 28, 1)\n",
    "num_classes = 10\n",
    "\n",
    "y_train = keras.utils.to_categorical(y_train, num_classes)\n",
    "y_test = keras.utils.to_categorical(y_test, num_classes)\n",
    "\n",
    "x_train = x_train.astype('float32')\n",
    "x_test = x_test.astype('float32')\n",
    "x_train /= 255\n",
    "x_test /= 255\n",
    "print('x_train shape:', x_train.shape)\n",
    "print(x_train.shape[0], 'train samples')\n",
    "print(x_test.shape[0], 'test samples')"
   ]
  },
  {
   "cell_type": "code",
   "execution_count": 3,
   "id": "89e5bdd0",
   "metadata": {},
   "outputs": [],
   "source": [
    "batch_size = 128\n",
    "num_classes = 10\n",
    "epochs = 10\n",
    "model = Sequential()\n",
    "model.add(Conv2D(32, kernel_size=(3, 3),activation='relu',input_shape=input_shape))\n",
    "model.add(Conv2D(64, (3, 3), activation='relu'))\n",
    "model.add(MaxPooling2D(pool_size=(2, 2)))\n",
    "model.add(Dropout(0.25))\n",
    "model.add(Flatten())\n",
    "model.add(Dense(256, activation='relu'))\n",
    "model.add(Dropout(0.5))\n",
    "model.add(Dense(num_classes, activation='softmax'))\n",
    "model.compile(loss=keras.losses.categorical_crossentropy,optimizer=keras.optimizers.Adadelta(),metrics=['accuracy'])"
   ]
  },
  {
   "cell_type": "code",
   "execution_count": 4,
   "id": "88950c67",
   "metadata": {},
   "outputs": [
    {
     "name": "stdout",
     "output_type": "stream",
     "text": [
      "Epoch 1/10\n",
      "469/469 [==============================] - 51s 108ms/step - loss: 2.2686 - accuracy: 0.1967 - val_loss: 2.2191 - val_accuracy: 0.4564\n",
      "Epoch 2/10\n",
      "469/469 [==============================] - 49s 104ms/step - loss: 2.1873 - accuracy: 0.3477 - val_loss: 2.1191 - val_accuracy: 0.5799\n",
      "Epoch 3/10\n",
      "469/469 [==============================] - 52s 111ms/step - loss: 2.0820 - accuracy: 0.4546 - val_loss: 1.9852 - val_accuracy: 0.6656\n",
      "Epoch 4/10\n",
      "469/469 [==============================] - 57s 121ms/step - loss: 1.9394 - accuracy: 0.5361 - val_loss: 1.8043 - val_accuracy: 0.7179\n",
      "Epoch 5/10\n",
      "469/469 [==============================] - 58s 124ms/step - loss: 1.7536 - accuracy: 0.5943 - val_loss: 1.5739 - val_accuracy: 0.7565\n",
      "Epoch 6/10\n",
      "469/469 [==============================] - 59s 126ms/step - loss: 1.5375 - accuracy: 0.6381 - val_loss: 1.3214 - val_accuracy: 0.7786\n",
      "Epoch 7/10\n",
      "469/469 [==============================] - 58s 125ms/step - loss: 1.3210 - accuracy: 0.6709 - val_loss: 1.0919 - val_accuracy: 0.8006\n",
      "Epoch 8/10\n",
      "469/469 [==============================] - 57s 121ms/step - loss: 1.1452 - accuracy: 0.6971 - val_loss: 0.9141 - val_accuracy: 0.8166\n",
      "Epoch 9/10\n",
      "469/469 [==============================] - 57s 122ms/step - loss: 1.0068 - accuracy: 0.7236 - val_loss: 0.7843 - val_accuracy: 0.8337\n",
      "Epoch 10/10\n",
      "469/469 [==============================] - 58s 123ms/step - loss: 0.9086 - accuracy: 0.7402 - val_loss: 0.6919 - val_accuracy: 0.8415\n",
      "The model has successfully trained\n",
      "Saving the model as mnist.h5\n"
     ]
    }
   ],
   "source": [
    "hist = model.fit(x_train, y_train,batch_size=batch_size,epochs=epochs,verbose=1,validation_data=(x_test, y_test))"
   ]
  },
  {
   "cell_type": "code",
   "execution_count": 5,
   "id": "1d28163b",
   "metadata": {},
   "outputs": [
    {
     "name": "stdout",
     "output_type": "stream",
     "text": [
      "Test loss: 0.6919138431549072\n",
      "Test accuracy: 0.8414999842643738\n"
     ]
    }
   ],
   "source": [
    "score = model.evaluate(x_test, y_test, verbose=0)\n",
    "\n",
    "print('Test loss:', score[0])\n",
    "print('Test accuracy:', score[1])"
   ]
  },
  {
   "cell_type": "code",
   "execution_count": null,
   "id": "9530158b",
   "metadata": {},
   "outputs": [],
   "source": []
  }
 ],
 "metadata": {
  "kernelspec": {
   "display_name": "Python 3",
   "language": "python",
   "name": "python3"
  },
  "language_info": {
   "codemirror_mode": {
    "name": "ipython",
    "version": 3
   },
   "file_extension": ".py",
   "mimetype": "text/x-python",
   "name": "python",
   "nbconvert_exporter": "python",
   "pygments_lexer": "ipython3",
   "version": "3.8.8"
  }
 },
 "nbformat": 4,
 "nbformat_minor": 5
}
